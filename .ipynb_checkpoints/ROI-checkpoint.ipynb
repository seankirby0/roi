{
 "cells": [
  {
   "cell_type": "markdown",
   "id": "5c9e3b87",
   "metadata": {},
   "source": [
    "##### Object Oriented Programming - Calculation of Rental Income\n",
    "\n",
    "Here we assume that we have a client coming to us asking for an automated Rental Property Calculator. Our client's name is Brandon from a company called \"Bigger Pockets\". Below, you will find a video of what Brandon usually does to calculate his Rental Property ROI.\n",
    "\n",
    "Using Visual Studio Code/Jupyter Notebook, and Object Oriented Programming create a program that will calculate the Return on Investment(ROI) for a rental property.\n"
   ]
  },
  {
   "cell_type": "code",
   "execution_count": 81,
   "id": "217003e9",
   "metadata": {},
   "outputs": [
    {
     "name": "stdout",
     "output_type": "stream",
     "text": [
      "Enter your total rental income: 2000\n",
      "Enter you miscellaneous income: 150\n"
     ]
    },
    {
     "ename": "TypeError",
     "evalue": "int() argument must be a string, a bytes-like object or a number, not 'list'",
     "output_type": "error",
     "traceback": [
      "\u001b[1;31m---------------------------------------------------------------------------\u001b[0m",
      "\u001b[1;31mTypeError\u001b[0m                                 Traceback (most recent call last)",
      "\u001b[1;32m<ipython-input-81-460cab046a2f>\u001b[0m in \u001b[0;36m<module>\u001b[1;34m\u001b[0m\n\u001b[0;32m     32\u001b[0m         \u001b[0mprint\u001b[0m\u001b[1;33m(\u001b[0m\u001b[0msum\u001b[0m\u001b[1;33m(\u001b[0m\u001b[0mint\u001b[0m\u001b[1;33m(\u001b[0m\u001b[0mtotal_rental_income\u001b[0m\u001b[1;33m)\u001b[0m\u001b[1;33m)\u001b[0m\u001b[1;33m)\u001b[0m\u001b[1;33m\u001b[0m\u001b[1;33m\u001b[0m\u001b[0m\n\u001b[0;32m     33\u001b[0m \u001b[1;33m\u001b[0m\u001b[0m\n\u001b[1;32m---> 34\u001b[1;33m \u001b[0mrun\u001b[0m\u001b[1;33m(\u001b[0m\u001b[1;33m)\u001b[0m\u001b[1;33m\u001b[0m\u001b[1;33m\u001b[0m\u001b[0m\n\u001b[0m",
      "\u001b[1;32m<ipython-input-81-460cab046a2f>\u001b[0m in \u001b[0;36mrun\u001b[1;34m()\u001b[0m\n\u001b[0;32m     30\u001b[0m         \u001b[0mrental_misc\u001b[0m \u001b[1;33m=\u001b[0m \u001b[0minput\u001b[0m\u001b[1;33m(\u001b[0m\u001b[1;34m'Enter you miscellaneous income: '\u001b[0m\u001b[1;33m)\u001b[0m\u001b[1;33m\u001b[0m\u001b[1;33m\u001b[0m\u001b[0m\n\u001b[0;32m     31\u001b[0m         \u001b[0mtotal_rental_income\u001b[0m \u001b[1;33m=\u001b[0m \u001b[1;33m[\u001b[0m\u001b[0mrental_income\u001b[0m\u001b[1;33m,\u001b[0m \u001b[0mrental_misc\u001b[0m\u001b[1;33m]\u001b[0m\u001b[1;33m\u001b[0m\u001b[1;33m\u001b[0m\u001b[0m\n\u001b[1;32m---> 32\u001b[1;33m         \u001b[0mprint\u001b[0m\u001b[1;33m(\u001b[0m\u001b[0msum\u001b[0m\u001b[1;33m(\u001b[0m\u001b[0mint\u001b[0m\u001b[1;33m(\u001b[0m\u001b[0mtotal_rental_income\u001b[0m\u001b[1;33m)\u001b[0m\u001b[1;33m)\u001b[0m\u001b[1;33m)\u001b[0m\u001b[1;33m\u001b[0m\u001b[1;33m\u001b[0m\u001b[0m\n\u001b[0m\u001b[0;32m     33\u001b[0m \u001b[1;33m\u001b[0m\u001b[0m\n\u001b[0;32m     34\u001b[0m \u001b[0mrun\u001b[0m\u001b[1;33m(\u001b[0m\u001b[1;33m)\u001b[0m\u001b[1;33m\u001b[0m\u001b[1;33m\u001b[0m\u001b[0m\n",
      "\u001b[1;31mTypeError\u001b[0m: int() argument must be a string, a bytes-like object or a number, not 'list'"
     ]
    }
   ],
   "source": [
    "class ROI:\n",
    "    \n",
    "    def __init__(self):\n",
    "        self.roi = []\n",
    "    \n",
    "    \n",
    "    def income(self, rental_income, rental_misc):\n",
    "        return\n",
    "#         total_rental_income = [rental_income, rental_misc]\n",
    "#         print(sum(total_rental_income))\n",
    "           \n",
    "    \n",
    "    def expenses(self, tax, insurance, utilities, hoa, yard, vacancy, repairs, cap_exp, property_mang, mortgage):\n",
    "        total_expenses = [tax, insurance, utilities, hoa, yard, vacancy, repairs, cap_exp, property_mang, mortgage]\n",
    "        print(sum(total_expenses))\n",
    "            \n",
    "    \n",
    "    def invenstents(self, down_pay, closing_cost, rehab_budget, misc_other):\n",
    "        total_investment = [down_pay, closing_cost, rehab_budget, misc_other]\n",
    "        print(sum(total_invenstent))\n",
    "        \n",
    "    def c_on_c_roi(self):\n",
    "        self.c_on_c_roi = (total_rental_income - total_expenses) / total_investment\n",
    "        print(self.c_on_c_roi)\n",
    "        \n",
    "def run():\n",
    "#     my_roi = ROI()\n",
    "    while True:\n",
    "        rental_income = input('Enter your total rental income: ')\n",
    "        rental_misc = input('Enter you miscellaneous income: ')\n",
    "        total_rental_income = [rental_income, rental_misc]\n",
    "        print(sum(int(total_rental_income)))\n",
    "    \n",
    "run()"
   ]
  },
  {
   "cell_type": "code",
   "execution_count": null,
   "id": "3cd497a7",
   "metadata": {},
   "outputs": [],
   "source": []
  },
  {
   "cell_type": "code",
   "execution_count": 62,
   "id": "be62b878",
   "metadata": {},
   "outputs": [],
   "source": []
  },
  {
   "cell_type": "code",
   "execution_count": null,
   "id": "a5275ad9",
   "metadata": {},
   "outputs": [],
   "source": []
  }
 ],
 "metadata": {
  "kernelspec": {
   "display_name": "Python 3",
   "language": "python",
   "name": "python3"
  },
  "language_info": {
   "codemirror_mode": {
    "name": "ipython",
    "version": 3
   },
   "file_extension": ".py",
   "mimetype": "text/x-python",
   "name": "python",
   "nbconvert_exporter": "python",
   "pygments_lexer": "ipython3",
   "version": "3.8.8"
  }
 },
 "nbformat": 4,
 "nbformat_minor": 5
}
